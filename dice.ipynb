{
 "cells": [
  {
   "cell_type": "code",
   "execution_count": null,
   "metadata": {},
   "outputs": [],
   "source": [
    "using Pkg\n",
    "Pkg.activate(\".\")\n",
    "Pkg.add(\"Plots\")"
   ]
  },
  {
   "cell_type": "code",
   "execution_count": null,
   "metadata": {},
   "outputs": [],
   "source": [
    "using Random\n",
    "using Plots"
   ]
  },
  {
   "cell_type": "code",
   "execution_count": null,
   "metadata": {},
   "outputs": [],
   "source": [
    "\"\"\"Roll Number dice, of size die\n",
    " - advantage, discard this number of the lowest rolls\n",
    " - disadvantage, discard this number of the highest rolls\n",
    "\"\"\"\n",
    "function roll(die, number; advantage=0, disadvantage=0)\n",
    "    rolls = rand(1:die, number+advantage+disadvantage)\n",
    "    if advantage > 0 || disadvantage > 0\n",
    "        sort!(rolls)\n",
    "        if advantage > 0 splice!(rolls, 1:advantage) end\n",
    "        if disadvantage > 0 splice!(rolls, (length(rolls)+1-disadvantage):length(rolls)) end\n",
    "    end\n",
    "    sum(rolls)\n",
    "end"
   ]
  },
  {
   "cell_type": "code",
   "execution_count": null,
   "metadata": {},
   "outputs": [],
   "source": [
    "\"\"\"\n",
    "Take a sample of a certain dice roll, returning either raw distribution or\n",
    "a normalised one (with ∑p=1)\n",
    "\"\"\"\n",
    "function random_sample_dice(trials, number, die; advantage=0, disadvantage=0, normalize=true)\n",
    "    sample = zeros(Int, die*number)\n",
    "    for trial in 1:trials\n",
    "        r = roll(die, number; advantage=advantage, disadvantage=disadvantage)\n",
    "        sample[r] += 1\n",
    "    end\n",
    "    if normalize\n",
    "        sample = sample ./ sum(sample)\n",
    "    end\n",
    "    sample\n",
    "end"
   ]
  },
  {
   "cell_type": "code",
   "execution_count": null,
   "metadata": {},
   "outputs": [],
   "source": [
    "\"\"\"\n",
    "Take a sample of a certain dice roll, returning either raw distribution or\n",
    "a normalised one (with ∑p=1). Dice roll can be given in \"XdY\" format, where\n",
    "this means roll a Y sided die X times.\n",
    "\"\"\"\n",
    "function random_sample_dice(trials, dice::AbstractString; advantage=0, disadvantage=0, normalize=true)\n",
    "    m = match(r\"^(\\d+)d(\\d+)\", dice)\n",
    "    if isnothing(m)\n",
    "        throw(ArgumentError(\"Failed to parse $(dice) as XdY\"))\n",
    "    end\n",
    "    random_sample_dice(trials, parse(Int, m[1]), parse(Int, m[2]); advantage=advantage, disadvantage=disadvantage, normalize=normalize)\n",
    "end"
   ]
  },
  {
   "cell_type": "code",
   "execution_count": null,
   "metadata": {},
   "outputs": [],
   "source": [
    "d20advantage = random_sample_dice(10000, 1, 20, advantage=1, normalize=true)\n",
    "plot(bar(d20advantage), legend=false, title=\"d20 with advantage\")"
   ]
  },
  {
   "cell_type": "code",
   "execution_count": null,
   "metadata": {},
   "outputs": [],
   "source": [
    "d20disadvantage = random_sample_dice(10000, 1, 20, disadvantage=1, normalize=true)\n",
    "plot(bar(d20disadvantage), legend=false, title=\"d20 with disdvantage\")"
   ]
  },
  {
   "cell_type": "code",
   "execution_count": null,
   "metadata": {},
   "outputs": [],
   "source": [
    "d6_3of4_stats = random_sample_dice(10000, \"3d6\", advantage=1, normalize=true)\n",
    "plot(bar(d6_3of4_stats), legend=false, title=\"Stats, 4d6 choose best 3\")"
   ]
  },
  {
   "cell_type": "code",
   "execution_count": null,
   "metadata": {},
   "outputs": [],
   "source": [
    "d20_double_advantage = sample_dice(10000, 1, 20, advantage=2, normalize=true)\n",
    "plot(bar(d20_double_advantage), legend=false, title=\"d20 with double advantage\")"
   ]
  }
 ],
 "metadata": {
  "kernelspec": {
   "display_name": "Julia 1.9.1",
   "language": "julia",
   "name": "julia-1.9"
  },
  "language_info": {
   "file_extension": ".jl",
   "mimetype": "application/julia",
   "name": "julia",
   "version": "1.9.1"
  },
  "orig_nbformat": 4
 },
 "nbformat": 4,
 "nbformat_minor": 2
}
